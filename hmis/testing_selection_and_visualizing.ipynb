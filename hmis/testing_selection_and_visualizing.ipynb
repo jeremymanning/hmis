{
 "cells": [
  {
   "cell_type": "code",
   "execution_count": null,
   "metadata": {
    "collapsed": false
   },
   "outputs": [],
   "source": [
    "import general\n",
    "import selection\n",
    "import visualizing \n",
    "%matplotlib notebook"
   ]
  },
  {
   "cell_type": "code",
   "execution_count": null,
   "metadata": {
    "collapsed": true
   },
   "outputs": [],
   "source": [
    "# The name of the dictionary file that must be read in.\n",
    "filename = '/home/sara/hmis_analysis/hmis/save_dicts_May22.txt'\n",
    "\n",
    "# The range of ages to be analyzed.\n",
    "lo=15\n",
    "hi=16\n",
    "\n",
    "# The name of the figure to be plotted.\n",
    "image_name = \"ages15to16.png\""
   ]
  },
  {
   "cell_type": "code",
   "execution_count": null,
   "metadata": {
    "collapsed": false
   },
   "outputs": [],
   "source": [
    "# Getting the list of dictionaries of the individuals.\n",
    "ppl = selection.get_subset_with_age_range(filename,lo=lo,hi=hi)"
   ]
  },
  {
   "cell_type": "code",
   "execution_count": null,
   "metadata": {
    "collapsed": false
   },
   "outputs": [],
   "source": [
    "# Taking the individuals from selection, and plotting the programs. \n",
    "visualizing.plot_time_series_from_dict_list_new(ppl, image_name)"
   ]
  },
  {
   "cell_type": "code",
   "execution_count": null,
   "metadata": {
    "collapsed": true
   },
   "outputs": [],
   "source": []
  }
 ],
 "metadata": {
  "kernelspec": {
   "display_name": "Python 2",
   "language": "python",
   "name": "python2"
  },
  "language_info": {
   "codemirror_mode": {
    "name": "ipython",
    "version": 2
   },
   "file_extension": ".py",
   "mimetype": "text/x-python",
   "name": "python",
   "nbconvert_exporter": "python",
   "pygments_lexer": "ipython2",
   "version": "2.7.12"
  }
 },
 "nbformat": 4,
 "nbformat_minor": 0
}
