{
 "cells": [
  {
   "cell_type": "code",
   "execution_count": null,
   "metadata": {},
   "outputs": [],
   "source": [
    "import hmis\n",
    "\n",
    "import plotly\n",
    "plotly.offline.init_notebook_mode()\n",
    "\n",
    "import matplotlib.pylab as plt\n",
    "%matplotlib notebook\n",
    "import folium\n",
    "import time as time"
   ]
  },
  {
   "cell_type": "code",
   "execution_count": null,
   "metadata": {
    "collapsed": true
   },
   "outputs": [],
   "source": [
    "# The name of the dictionary file that must be read in.\n",
    "filename = 'save_dicts_June13.pkl'\n",
    "\n",
    "\n",
    "# Pull out the information on all the people\n",
    "people = hmis.read_dictionary_file(filename)"
   ]
  },
  {
   "cell_type": "code",
   "execution_count": null,
   "metadata": {},
   "outputs": [],
   "source": [
    "# Pull out a subset of people based on their ages.\n",
    "# This function returns a list of dicionaries, just like the original list of people.\n",
    "\n",
    "# The range of ages to be analyzed.\n",
    "lo=1\n",
    "hi=1.3\n",
    "\n",
    "ppl_based_on_age = hmis.select_by_age(people,lo=lo,hi=hi)"
   ]
  },
  {
   "cell_type": "code",
   "execution_count": null,
   "metadata": {},
   "outputs": [],
   "source": [
    "# Mapping the locations of the programs on a map from folium's package.\n",
    "\n",
    "\n",
    "# This mapping is the clustering with the exploded view. \n",
    "# This plots each program, even if there are repeats in order for the clustering\n",
    "# to accurately represent how many individuals have been to that program. \n",
    "map1 =hmis.plot_program_locations(ppl_based_on_age, cluster=True, exploded=True)\n",
    "map1"
   ]
  },
  {
   "cell_type": "code",
   "execution_count": null,
   "metadata": {},
   "outputs": [],
   "source": [
    "# Mapping the locations of the programs on a map from folium's package.\n",
    "\n",
    "\n",
    "# This is WITHOUT the exploded view of the clustering. The number reprresenting on the\n",
    "# marker shows the number of programs in the area.\n",
    "map2 = hmis.plot_program_locations(ppl_based_on_age, cluster=True, exploded=False)\n",
    "map2"
   ]
  },
  {
   "cell_type": "code",
   "execution_count": null,
   "metadata": {
    "collapsed": true
   },
   "outputs": [],
   "source": [
    "# Mapping the locations of the programs on a map from folium's package.\n",
    "\n",
    "\n",
    "# This is WITHOUT clustering but accurately shows the number of individuals\n",
    "# at each program by the size of the marker and by clicking on each marker. \n",
    "map3 =hmis.plot_program_locations(ppl_based_on_age, cluster=False)\n",
    "map3"
   ]
  },
  {
   "cell_type": "code",
   "execution_count": null,
   "metadata": {
    "collapsed": true
   },
   "outputs": [],
   "source": []
  },
  {
   "cell_type": "code",
   "execution_count": null,
   "metadata": {
    "collapsed": true
   },
   "outputs": [],
   "source": [
    "# Get the list of dictionaries of the individuals.\n",
    "num_of_programs = 27\n",
    "ppl_based_on_programs = hmis.select_by_number_of_programs(people,num_of_programs)\n",
    "#print(ppl_based_on_programs)"
   ]
  },
  {
   "cell_type": "code",
   "execution_count": null,
   "metadata": {
    "collapsed": true
   },
   "outputs": [],
   "source": [
    "# This mapping is the clustering with the exploded view. \n",
    "# This plots each program, even if there are repeats in order for the clustering\n",
    "# to accurately represent how many individuals have been to that program. \n",
    "map4 =hmis.plot_program_locations(ppl_based_on_programs, cluster=True, exploded=True)\n",
    "map4"
   ]
  },
  {
   "cell_type": "code",
   "execution_count": null,
   "metadata": {
    "collapsed": true
   },
   "outputs": [],
   "source": [
    "# This is WITHOUT the exploded view of the clustering. The number reprresenting on the\n",
    "# marker shows the number of programs in the area.\n",
    "map5 =hmis.plot_program_locations(ppl_based_on_age, cluster=True, exploded=False)\n",
    "map5"
   ]
  },
  {
   "cell_type": "code",
   "execution_count": null,
   "metadata": {
    "collapsed": true
   },
   "outputs": [],
   "source": [
    "# Mapping the locations of the programs\n",
    "map6 =hmis.plot_program_locations(ppl_based_on_programs, cluster=False)\n",
    "\n",
    "map6\n"
   ]
  },
  {
   "cell_type": "code",
   "execution_count": null,
   "metadata": {
    "collapsed": true
   },
   "outputs": [],
   "source": []
  },
  {
   "cell_type": "code",
   "execution_count": null,
   "metadata": {
    "collapsed": true
   },
   "outputs": [],
   "source": []
  },
  {
   "cell_type": "code",
   "execution_count": null,
   "metadata": {
    "collapsed": true
   },
   "outputs": [],
   "source": []
  }
 ],
 "metadata": {
  "kernelspec": {
   "display_name": "Python 2",
   "language": "python",
   "name": "python2"
  },
  "language_info": {
   "codemirror_mode": {
    "name": "ipython",
    "version": 2
   },
   "file_extension": ".py",
   "mimetype": "text/x-python",
   "name": "python",
   "nbconvert_exporter": "python",
   "pygments_lexer": "ipython2",
   "version": "2.7.13"
  }
 },
 "nbformat": 4,
 "nbformat_minor": 1
}
