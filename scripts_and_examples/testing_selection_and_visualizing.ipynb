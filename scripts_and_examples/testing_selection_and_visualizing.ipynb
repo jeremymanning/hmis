{
 "cells": [
  {
   "cell_type": "code",
   "execution_count": null,
   "metadata": {
    "collapsed": false
   },
   "outputs": [],
   "source": [
    "from hmis import selection\n",
    "from hmis import general\n",
    "from hmis import visualizing \n",
    "from hmis import parsing\n",
    "import plotly\n",
    "plotly.offline.init_notebook_mode()\n",
    "\n",
    "%matplotlib notebook"
   ]
  },
  {
   "cell_type": "code",
   "execution_count": null,
   "metadata": {
    "collapsed": true
   },
   "outputs": [],
   "source": [
    "# The name of the dictionary file that must be read in.\n",
    "filename = 'save_dicts_May30.pkl'\n",
    "\n",
    "# The name of the figure to be plotted.\n",
    "image_name = \"Ages15to16_plotly.png\""
   ]
  },
  {
   "cell_type": "code",
   "execution_count": null,
   "metadata": {
    "collapsed": false
   },
   "outputs": [],
   "source": [
    "dict_list = parsing.read_dictionary_file(filename)"
   ]
  },
  {
   "cell_type": "code",
   "execution_count": null,
   "metadata": {
    "collapsed": false
   },
   "outputs": [],
   "source": [
    "# Getting the list of dictionaries of the individuals.\n",
    "\n",
    "# The range of ages to be analyzed.\n",
    "lo=1\n",
    "hi=1.5\n",
    "ppl_based_on_age = selection.subset_with_age_range(dict_list,lo=lo,hi=hi)"
   ]
  },
  {
   "cell_type": "code",
   "execution_count": null,
   "metadata": {
    "collapsed": false
   },
   "outputs": [],
   "source": [
    "# Taking the individuals from selection, and plotting the programs. \n",
    "visualizing.plot_time_series(ppl_based_on_age, image_name, plotly=True)"
   ]
  },
  {
   "cell_type": "code",
   "execution_count": null,
   "metadata": {
    "collapsed": false
   },
   "outputs": [],
   "source": [
    "# Get the list of dictionaries of the individuals.\n",
    "num_of_programs = 27\n",
    "ppl_based_on_programs = selection.subset_with_program_num(dict_list,num_of_programs)"
   ]
  },
  {
   "cell_type": "code",
   "execution_count": null,
   "metadata": {
    "collapsed": false
   },
   "outputs": [],
   "source": [
    "# Taking the individuals from selection, and plotting the programs. \n",
    "visualizing.plot_time_series(ppl_based_on_programs, image_name, plotly=True)"
   ]
  },
  {
   "cell_type": "code",
   "execution_count": null,
   "metadata": {
    "collapsed": true
   },
   "outputs": [],
   "source": []
  }
 ],
 "metadata": {
  "kernelspec": {
   "display_name": "Python [default]",
   "language": "python",
   "name": "python3"
  },
  "language_info": {
   "codemirror_mode": {
    "name": "ipython",
    "version": 3
   },
   "file_extension": ".py",
   "mimetype": "text/x-python",
   "name": "python",
   "nbconvert_exporter": "python",
   "pygments_lexer": "ipython3",
   "version": "3.5.2"
  }
 },
 "nbformat": 4,
 "nbformat_minor": 0
}
