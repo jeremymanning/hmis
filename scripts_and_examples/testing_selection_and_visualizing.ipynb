{
 "cells": [
  {
   "cell_type": "code",
   "execution_count": null,
   "metadata": {},
   "outputs": [],
   "source": [
    "import hmis\n",
    "\n",
    "import plotly\n",
    "plotly.offline.init_notebook_mode()\n",
    "\n",
    "import matplotlib.pylab as plt\n",
    "%matplotlib notebook\n",
    "import folium\n",
    "import time as time"
   ]
  },
  {
   "cell_type": "code",
   "execution_count": null,
   "metadata": {},
   "outputs": [],
   "source": [
    "# The name of the dictionary file that must be read in.\n",
    "filename = 'save_dicts_June1.pkl'\n",
    "\n",
    "# Pull out the information on all the people\n",
    "people = hmis.read_dictionary_file(filename)"
   ]
  },
  {
   "cell_type": "code",
   "execution_count": null,
   "metadata": {},
   "outputs": [],
   "source": [
    "# The data are stored as a list of python dictionaries. \n",
    "\n",
    "print(\"There is information about %d people\" % (len(people)))\n",
    "print(\" \")\n",
    "\n",
    "# One person\n",
    "print(people[0])\n",
    "print(\" \")\n",
    "\n",
    "# Another person\n",
    "print(people[98])\n"
   ]
  },
  {
   "cell_type": "code",
   "execution_count": null,
   "metadata": {},
   "outputs": [],
   "source": [
    "# Pull out a subset of people based on their ages.\n",
    "# This function returns a list of dicionaries, just like the original list of people.\n",
    "\n",
    "# The range of ages to be analyzed.\n",
    "lo=1\n",
    "hi=1.3\n",
    "\n",
    "ppl_based_on_age = hmis.select_by_age(people,lo=lo,hi=hi)"
   ]
  },
  {
   "cell_type": "code",
   "execution_count": null,
   "metadata": {
    "scrolled": false
   },
   "outputs": [],
   "source": [
    "# Plot a time series for these individuals and save the image as a .png\n",
    "# Use the matplotlib plotting library and save the image\n",
    "\n",
    "image_name = \"Ages1to1.3_plotly.png\"\n",
    "\n",
    "plt.figure(figsize=(9,5))\n",
    "hmis.plot_time_series(ppl_based_on_age, image_name, plotly=False)"
   ]
  },
  {
   "cell_type": "code",
   "execution_count": null,
   "metadata": {},
   "outputs": [],
   "source": [
    "# Plot a time series for these individuals and save the image as a .png\n",
    "# Use the plotly plotting library which is more interacive, but does not allow us to \n",
    "# save the image.\n",
    "\n",
    "hmis.plot_time_series(ppl_based_on_age, plotly=True)"
   ]
  },
  {
   "cell_type": "code",
   "execution_count": null,
   "metadata": {},
   "outputs": [],
   "source": [
    "# Mapping the locations of the programs on a map from folium's package.\n",
    "\n",
    "map1 =hmis.plot_program_locations(ppl_based_on_age)\n",
    "map1"
   ]
  },
  {
   "cell_type": "code",
   "execution_count": null,
   "metadata": {},
   "outputs": [],
   "source": [
    "# Get the list of dictionaries of the individuals.\n",
    "num_of_programs = 27\n",
    "ppl_based_on_programs = hmis.select_by_number_of_programs(people,num_of_programs)\n",
    "#print(ppl_based_on_programs)"
   ]
  },
  {
   "cell_type": "code",
   "execution_count": null,
   "metadata": {},
   "outputs": [],
   "source": []
  },
  {
   "cell_type": "code",
   "execution_count": null,
   "metadata": {},
   "outputs": [],
   "source": [
    "# Taking the individuals from the previous selection, and plotting their time series.\n",
    "plt.figure()\n",
    "hmis.plot_time_series(ppl_based_on_programs, plotly=False)"
   ]
  },
  {
   "cell_type": "code",
   "execution_count": null,
   "metadata": {},
   "outputs": [],
   "source": [
    "# Mapping the locations of the programs\n",
    "map2 =hmis.plot_program_locations(ppl_based_on_programs)\n",
    "\n",
    "map2\n",
    "#map1.save('example.png')"
   ]
  },
  {
   "cell_type": "code",
   "execution_count": null,
   "metadata": {},
   "outputs": [],
   "source": []
  },
  {
   "cell_type": "code",
   "execution_count": null,
   "metadata": {},
   "outputs": [],
   "source": []
  },
  {
   "cell_type": "code",
   "execution_count": null,
   "metadata": {
    "collapsed": true
   },
   "outputs": [],
   "source": []
  }
 ],
 "metadata": {
  "kernelspec": {
   "display_name": "Python 2",
   "language": "python",
   "name": "python2"
  },
  "language_info": {
   "codemirror_mode": {
    "name": "ipython",
    "version": 2
   },
   "file_extension": ".py",
   "mimetype": "text/x-python",
   "name": "python",
   "nbconvert_exporter": "python",
   "pygments_lexer": "ipython2",
   "version": "2.7.13"
  }
 },
 "nbformat": 4,
 "nbformat_minor": 1
}
