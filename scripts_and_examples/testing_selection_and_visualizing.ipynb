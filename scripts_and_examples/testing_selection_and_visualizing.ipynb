{
 "cells": [
  {
   "cell_type": "code",
   "execution_count": null,
   "metadata": {
    "collapsed": false
   },
   "outputs": [],
   "source": [
    "import hmis\n",
    "\n",
    "import plotly\n",
    "plotly.offline.init_notebook_mode()\n",
    "\n",
    "import matplotlib.pylab as plt\n",
    "%matplotlib notebook"
   ]
  },
  {
   "cell_type": "code",
   "execution_count": null,
   "metadata": {
    "collapsed": false
   },
   "outputs": [],
   "source": [
    "# The name of the dictionary file that must be read in.\n",
    "filename = 'master_file.pkl'\n",
    "\n",
    "# Pull out the information on all the people\n",
    "people = hmis.read_dictionary_file(filename)"
   ]
  },
  {
   "cell_type": "code",
   "execution_count": null,
   "metadata": {
    "collapsed": false
   },
   "outputs": [],
   "source": [
    "# The data are stored as a list of python dictionaries. \n",
    "\n",
    "print(\"There is information about %d people\" % (len(people)))\n",
    "print(\" \")\n",
    "\n",
    "# One person\n",
    "print(people[0])\n",
    "print(\" \")\n",
    "\n",
    "# Another person\n",
    "print(people[98])"
   ]
  },
  {
   "cell_type": "code",
   "execution_count": null,
   "metadata": {
    "collapsed": false
   },
   "outputs": [],
   "source": [
    "# Pull out a subset of people based on their ages.\n",
    "# This function returns a list of dicionaries, just like the original list of people.\n",
    "\n",
    "# The range of ages to be analyzed.\n",
    "lo=1\n",
    "hi=1.5\n",
    "\n",
    "ppl_based_on_age = hmis.select_by_age(people,lo=lo,hi=hi)"
   ]
  },
  {
   "cell_type": "code",
   "execution_count": null,
   "metadata": {
    "collapsed": false,
    "scrolled": false
   },
   "outputs": [],
   "source": [
    "# Plot a time series for these individuals and save the image as a .png\n",
    "# Use the matplotlib plotting library and save the image\n",
    "\n",
    "image_name = \"Ages15to16_plotly.png\"\n",
    "\n",
    "plt.figure(figsize=(9,5))\n",
    "hmis.plot_time_series(ppl_based_on_age, image_name, plotly=False)"
   ]
  },
  {
   "cell_type": "code",
   "execution_count": null,
   "metadata": {
    "collapsed": false
   },
   "outputs": [],
   "source": [
    "# Plot a time series for these individuals and save the image as a .png\n",
    "# Use the plotly plotting library which is more interacive, but does not allow us to \n",
    "# save the image.\n",
    "\n",
    "hmis.plot_time_series(ppl_based_on_age, plotly=True)"
   ]
  },
  {
   "cell_type": "code",
   "execution_count": null,
   "metadata": {
    "collapsed": false
   },
   "outputs": [],
   "source": [
    "# Get the list of dictionaries of the individuals.\n",
    "num_of_programs = 27\n",
    "ppl_based_on_programs = hmis.subset_with_program_num(people,num_of_programs)"
   ]
  },
  {
   "cell_type": "code",
   "execution_count": null,
   "metadata": {
    "collapsed": false
   },
   "outputs": [],
   "source": [
    "# Taking the individuals from the previous selection, and plotting their time series.\n",
    "plt.figure()\n",
    "hmis.plot_time_series(ppl_based_on_programs, plotly=False)"
   ]
  },
  {
   "cell_type": "code",
   "execution_count": null,
   "metadata": {
    "collapsed": true
   },
   "outputs": [],
   "source": []
  }
 ],
 "metadata": {
  "kernelspec": {
   "display_name": "Python 3",
   "language": "python",
   "name": "python3"
  },
  "language_info": {
   "codemirror_mode": {
    "name": "ipython",
    "version": 3
   },
   "file_extension": ".py",
   "mimetype": "text/x-python",
   "name": "python",
   "nbconvert_exporter": "python",
   "pygments_lexer": "ipython3",
   "version": "3.6.0"
  }
 },
 "nbformat": 4,
 "nbformat_minor": 0
}
