{
 "cells": [
  {
   "cell_type": "code",
   "execution_count": null,
   "metadata": {
    "collapsed": false
   },
   "outputs": [],
   "source": [
    "import hmis\n",
    "\n",
    "import plotly\n",
    "plotly.offline.init_notebook_mode()\n",
    "\n",
    "import matplotlib.pylab as plt\n",
    "%matplotlib notebook\n",
    "import folium"
   ]
  },
  {
   "cell_type": "code",
   "execution_count": null,
   "metadata": {
    "collapsed": false
   },
   "outputs": [],
   "source": [
    "# The name of the dictionary file that must be read in.\n",
    "filename = 'save_dicts_May30.pkl'\n",
    "\n",
    "# Pull out the information on all the people\n",
    "people = hmis.read_dictionary_file(filename)"
   ]
  },
  {
   "cell_type": "code",
   "execution_count": null,
   "metadata": {
    "collapsed": false
   },
   "outputs": [],
   "source": [
    "# The data are stored as a list of python dictionaries. \n",
    "\n",
    "print(\"There is information about %d people\" % (len(people)))\n",
    "print(\" \")\n",
    "\n",
    "# One person\n",
    "print(people[0])\n",
    "print(\" \")\n",
    "\n",
    "# Another person\n",
    "#print(people[98])\n",
    "\n",
    "ppl = people[98]\n",
    "progs = ppl['Programs']\n",
    "for x in progs:\n",
    "\n",
    "    y = x['Project Zip Code']\n",
    "    print(y)`"
   ]
  },
  {
   "cell_type": "code",
   "execution_count": null,
   "metadata": {
    "collapsed": false
   },
   "outputs": [],
   "source": [
    "# Pull out a subset of people based on their ages.\n",
    "# This function returns a list of dicionaries, just like the original list of people.\n",
    "\n",
    "# The range of ages to be analyzed.\n",
    "lo=1\n",
    "hi=1.5\n",
    "\n",
    "ppl_based_on_age = hmis.select_by_age(people,lo=lo,hi=hi)"
   ]
  },
  {
   "cell_type": "code",
   "execution_count": null,
   "metadata": {
    "collapsed": false,
    "scrolled": false
   },
   "outputs": [],
   "source": [
    "# Plot a time series for these individuals and save the image as a .png\n",
    "# Use the matplotlib plotting library and save the image\n",
    "\n",
    "image_name = \"Ages15to16_plotly.png\"\n",
    "\n",
    "plt.figure(figsize=(9,5))\n",
    "hmis.plot_time_series(ppl_based_on_age, image_name, plotly=False)"
   ]
  },
  {
   "cell_type": "code",
   "execution_count": null,
   "metadata": {
    "collapsed": false
   },
   "outputs": [],
   "source": [
    "# Plot a time series for these individuals and save the image as a .png\n",
    "# Use the plotly plotting library which is more interacive, but does not allow us to \n",
    "# save the image.\n",
    "\n",
    "hmis.plot_time_series(ppl_based_on_age, plotly=True)"
   ]
  },
  {
   "cell_type": "code",
   "execution_count": null,
   "metadata": {
    "collapsed": false
   },
   "outputs": [],
   "source": [
    "# Get the list of dictionaries of the individuals.\n",
    "num_of_programs = 27\n",
    "ppl_based_on_programs = hmis.select_by_number_of_programs(people,num_of_programs)\n",
    "#print(ppl_based_on_programs)"
   ]
  },
  {
   "cell_type": "code",
   "execution_count": null,
   "metadata": {
    "collapsed": false
   },
   "outputs": [],
   "source": []
  },
  {
   "cell_type": "code",
   "execution_count": null,
   "metadata": {
    "collapsed": false
   },
   "outputs": [],
   "source": [
    "# Taking the individuals from the previous selection, and plotting their time series.\n",
    "plt.figure()\n",
    "hmis.plot_time_series(ppl_based_on_programs, plotly=False)"
   ]
  },
  {
   "cell_type": "code",
   "execution_count": null,
   "metadata": {
    "collapsed": false
   },
   "outputs": [],
   "source": [
    "#person = 'Personal ID': '104846641', 'Programs': [{'Project type': 'Services Only', \n",
    "\n",
    "#import datetime\n",
    "#person = [{'Personal ID': '100632241', 'Age': 61, 'Programs': [{'Length of stay': datetime.timedelta(7), 'Project zip code' : 12061, 'Admission date': '12/31/2014', 'Project type': 'Emergency Shelter', 'Discharge date': '1/7/2015'}, {'Length of stay': datetime.timedelta(10), 'Project zip code' : 13201, 'Admission date': '1/8/2015', 'Project type': 'Emergency Shelter', 'Discharge date': '1/18/2015'}, {'Length of stay': datetime.timedelta(17), 'Project zip code' : 11040, 'Admission date': '1/9/2015', 'Project type': 'Emergency Shelter', 'Discharge date': '1/26/2015'}, {'Length of stay': datetime.timedelta(366), 'Project zip code' : 10001 ,'Admission date': '1/22/2015', 'Project type': 'Emergency Shelter', 'Discharge date': '1/23/2016'}, {'Length of stay': datetime.timedelta(3), 'Project zip code' : 12044, 'Admission date': '1/29/2015', 'Project type': 'Emergency Shelter', 'Discharge date': '2/1/2015'}, {'Length of stay': datetime.timedelta(24), 'Project zip code' : 12601, 'Admission date': '2/2/2015', 'Project type': 'Emergency Shelter', 'Discharge date': '2/26/2015'}, {'Length of stay': datetime.timedelta(1), 'Project zip code' : 12901,'Admission date': '3/2/2015', 'Project type': 'Emergency Shelter', 'Discharge date': '3/3/2015'}]}] \n",
    "#, {'Personal ID': '104846641', 'Programs': [{'Project type': 'Services Only', 'Project zip code' : 12144, 'Length of stay': datetime.timedelta(-715), 'Admission date': '10/4/2016', 'Discharge date': '10/20/2014'}, {'Project type': 'Emergency Shelter', 'Project zip code' :12061, 'Length of stay': datetime.timedelta(-220), 'Admission date': '10/6/2014', 'Discharge date': '2/28/2014'}], 'Age': 32}]"
   ]
  },
  {
   "cell_type": "code",
   "execution_count": null,
   "metadata": {
    "collapsed": false
   },
   "outputs": [],
   "source": [
    "hmis.plot_program_locations(ppl_based_on_programs)"
   ]
  },
  {
   "cell_type": "code",
   "execution_count": null,
   "metadata": {
    "collapsed": false
   },
   "outputs": [],
   "source": [
    "zippp = [22,23]\n",
    "s, e = "
   ]
  },
  {
   "cell_type": "code",
   "execution_count": null,
   "metadata": {
    "collapsed": false
   },
   "outputs": [],
   "source": [
    "lat = 42.7234923333333\n",
    "lon = -73.6933756666667 \n",
    "\n",
    "#map1 = folium.Map(location=[lat,lon], zoom_start = 12)\n",
    "#folium.Marker([lat,lon], popup='Home').add_to(map1)\n",
    "    \n",
    "#map1\n",
    "map1 = hmis.plot_program_locations(lat, lon)\n",
    "map1"
   ]
  },
  {
   "cell_type": "code",
   "execution_count": null,
   "metadata": {
    "collapsed": true
   },
   "outputs": [],
   "source": []
  }
 ],
 "metadata": {
  "kernelspec": {
   "display_name": "Python [default]",
   "language": "python",
   "name": "python3"
  },
  "language_info": {
   "codemirror_mode": {
    "name": "ipython",
    "version": 3
   },
   "file_extension": ".py",
   "mimetype": "text/x-python",
   "name": "python",
   "nbconvert_exporter": "python",
   "pygments_lexer": "ipython3",
   "version": "3.5.2"
  }
 },
 "nbformat": 4,
 "nbformat_minor": 0
}
