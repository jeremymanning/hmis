{
 "cells": [
  {
   "cell_type": "code",
   "execution_count": null,
   "metadata": {
    "collapsed": true
   },
   "outputs": [],
   "source": [
    "import hmis\n",
    "import time\n",
    "import numpy as np\n",
    "import matplotlib.pylab as plt\n",
    "%matplotlib notebook"
   ]
  },
  {
   "cell_type": "code",
   "execution_count": null,
   "metadata": {
    "collapsed": true
   },
   "outputs": [],
   "source": [
    "# The name of the dictionary file that must be read in.\n",
    "filename = 'save_dicts_June13.pkl'\n",
    "\n",
    "# Pull out the information on all the people\n",
    "people = hmis.read_dictionary_file(filename)"
   ]
  },
  {
   "cell_type": "code",
   "execution_count": null,
   "metadata": {
    "collapsed": true
   },
   "outputs": [],
   "source": [
    "# The type of program you want to specify \n",
    "prog_type='Transitional Housing'\n",
    "\n",
    "# Select the individuals that have been to the specific program\n",
    "ppl_based_on_program_type = hmis.select_by_program_type(people, prog_type)"
   ]
  },
  {
   "cell_type": "code",
   "execution_count": null,
   "metadata": {
    "collapsed": true
   },
   "outputs": [],
   "source": [
    "# Gets the average age based on program type. \n",
    "# This function only calculates the average ages for 2013, 2014, 2015 and 2016, and for all individuals before 2013.  \n",
    "data_list = hmis.calc_average_age_by_year(ppl_based_on_program_type)"
   ]
  },
  {
   "cell_type": "code",
   "execution_count": null,
   "metadata": {
    "collapsed": true
   },
   "outputs": [],
   "source": [
    "# Gets the average age based on program type \n",
    "# With the use of dictionaries\n",
    "# This function calculates the average year for all years that individuals have been entered into\n",
    "\n",
    "data_dictionary = hmis.organize_ages_by_admission_dates(ppl_based_on_program_type)"
   ]
  },
  {
   "cell_type": "code",
   "execution_count": null,
   "metadata": {
    "collapsed": true
   },
   "outputs": [],
   "source": [
    "hmis.print_average_ages(data_dictionary)"
   ]
  },
  {
   "cell_type": "code",
   "execution_count": null,
   "metadata": {
    "collapsed": true
   },
   "outputs": [],
   "source": [
    "plt.figure()\n",
    "\n",
    "labels=[]\n",
    "age_data =[]\n",
    "years = np.arange(2004,2017)\n",
    "keys = data_dictionary.keys()\n",
    "for key in years:\n",
    "    if key in keys:\n",
    "        age_data.append(data_dictionary[key])\n",
    "        labels.append(key)\n",
    "    \n",
    "\n",
    "plt.boxplot(age_data, labels=labels)\n",
    "\n",
    "plt.show() "
   ]
  },
  {
   "cell_type": "code",
   "execution_count": null,
   "metadata": {
    "collapsed": true
   },
   "outputs": [],
   "source": [
    "plt.figure()\n",
    "labels= ['<2013','2013', '2014', '2015', '2016']\n",
    "ages_plot = plt.boxplot(data_list, labels=labels)\n",
    "plt.show()"
   ]
  },
  {
   "cell_type": "code",
   "execution_count": null,
   "metadata": {
    "collapsed": true
   },
   "outputs": [],
   "source": []
  }
 ],
 "metadata": {
  "kernelspec": {
   "display_name": "Python 2",
   "language": "python",
   "name": "python2"
  },
  "language_info": {
   "codemirror_mode": {
    "name": "ipython",
    "version": 2
   },
   "file_extension": ".py",
   "mimetype": "text/x-python",
   "name": "python",
   "nbconvert_exporter": "python",
   "pygments_lexer": "ipython2",
   "version": "2.7.13"
  }
 },
 "nbformat": 4,
 "nbformat_minor": 2
}
