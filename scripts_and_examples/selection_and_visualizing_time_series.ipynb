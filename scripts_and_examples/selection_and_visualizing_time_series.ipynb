{
 "cells": [
  {
   "cell_type": "code",
   "execution_count": null,
   "metadata": {},
   "outputs": [],
   "source": [
    "import hmis\n",
    "\n",
    "import plotly\n",
    "plotly.offline.init_notebook_mode()\n",
    "\n",
    "import matplotlib.pylab as plt\n",
    "%matplotlib notebook\n",
    "import folium\n",
    "import time as time"
   ]
  },
  {
   "cell_type": "code",
   "execution_count": null,
   "metadata": {
    "collapsed": true
   },
   "outputs": [],
   "source": [
    "# The name of the dictionary file that must be read in.\n",
    "filename = 'save_dicts_June13.pkl'\n",
    "\n",
    "\n",
    "# Pull out the information on all the people\n",
    "people = hmis.read_dictionary_file(filename)"
   ]
  },
  {
   "cell_type": "code",
   "execution_count": null,
   "metadata": {},
   "outputs": [],
   "source": [
    "# The data are stored as a list of python dictionaries. \n",
    "\n",
    "print(\"There is information about %d people\" % (len(people)))\n",
    "print(\" \")\n",
    "\n",
    "print(people[7500])\n",
    "hmis.pretty_print(people[98], dump_all=True)\n",
    "\n",
    "hmis.pretty_print(people[98])\n",
    "hmis.print_average_ages({2016: 1})\n"
   ]
  },
  {
   "cell_type": "code",
   "execution_count": null,
   "metadata": {},
   "outputs": [],
   "source": [
    "hmis.plot_time_series('hhhh', image_name = \"Test.png\")"
   ]
  },
  {
   "cell_type": "code",
   "execution_count": null,
   "metadata": {
    "collapsed": true
   },
   "outputs": [],
   "source": [
    "prog_type='Emergency Shelter'\n",
    "\n",
    "ppl_based_on_program_type = hmis.select_by_program_type(people, prog_type)"
   ]
  },
  {
   "cell_type": "code",
   "execution_count": null,
   "metadata": {
    "collapsed": true
   },
   "outputs": [],
   "source": [
    "# Gets the average age based on program type\n",
    "start=time.time()\n",
    "data_list = hmis.calc_average_age(ppl_based_on_program_type)\n",
    "#print(data)\n",
    "print(time.time()-start)"
   ]
  },
  {
   "cell_type": "code",
   "execution_count": null,
   "metadata": {
    "collapsed": true
   },
   "outputs": [],
   "source": [
    "# Gets the average age based on program type \n",
    "# With the use of dictionaries\n",
    "start=time.time()\n",
    "\n",
    "data_dictionary = hmis.organize_ages_by_admission_dates(ppl_based_on_program_type)\n",
    "print(time.time()-start)"
   ]
  },
  {
   "cell_type": "code",
   "execution_count": null,
   "metadata": {
    "collapsed": true
   },
   "outputs": [],
   "source": [
    "hmis.print_average_ages(data_dictionary)"
   ]
  },
  {
   "cell_type": "code",
   "execution_count": null,
   "metadata": {
    "collapsed": true
   },
   "outputs": [],
   "source": [
    "plt.figure()\n",
    "#labels= [for key in data]\n",
    "#print(labels)\n",
    "#ages_plot = plt.boxplot(data)\n",
    "labels=[]\n",
    "age_data =[]\n",
    "import numpy as np\n",
    "years = np.arange(2004,2017)\n",
    "print(years)\n",
    "keys = data_dictionary.keys()\n",
    "for key in years:\n",
    "    if key in keys:\n",
    "        age_data.append(data_dictionary[key])\n",
    "        labels.append(key)\n",
    "    \n",
    "\n",
    "plt.boxplot(age_data, labels=labels)\n",
    "\n",
    "plt.show() \n"
   ]
  },
  {
   "cell_type": "code",
   "execution_count": null,
   "metadata": {
    "collapsed": true
   },
   "outputs": [],
   "source": []
  },
  {
   "cell_type": "code",
   "execution_count": null,
   "metadata": {
    "collapsed": true
   },
   "outputs": [],
   "source": [
    "plt.figure()\n",
    "labels= ['<2013','2013', '2014', '2015', '2016']\n",
    "ages_plot = plt.boxplot(data_list, labels=labels)\n",
    "\n",
    "\n",
    "#ages_plot.set_xticklabels(labels)\n",
    "plt.show()"
   ]
  },
  {
   "cell_type": "code",
   "execution_count": null,
   "metadata": {
    "collapsed": true
   },
   "outputs": [],
   "source": [
    "plt.hist(age_list, bins=80, range=(0,80))"
   ]
  },
  {
   "cell_type": "code",
   "execution_count": null,
   "metadata": {
    "collapsed": true
   },
   "outputs": [],
   "source": [
    "# Pull out a subset of people based on their ages.\n",
    "# This function returns a list of dicionaries, just like the original list of people.\n",
    "\n",
    "# The range of ages to be analyzed.\n",
    "lo=1\n",
    "hi=1.3\n",
    "\n",
    "ppl_based_on_age = hmis.select_by_age(people,lo=lo,hi=hi)"
   ]
  },
  {
   "cell_type": "code",
   "execution_count": null,
   "metadata": {
    "collapsed": true,
    "scrolled": false
   },
   "outputs": [],
   "source": [
    "# Plot a time series for these individuals and save the image as a .png\n",
    "# Use the matplotlib plotting library and save the image\n",
    "\n",
    "image_name = \"Ages1to1.3_plotly.png\"\n",
    "\n",
    "plt.figure(figsize=(9,5))\n",
    "hmis.plot_time_series(ppl_based_on_age, image_name, plotly=False)"
   ]
  },
  {
   "cell_type": "code",
   "execution_count": null,
   "metadata": {
    "collapsed": true
   },
   "outputs": [],
   "source": [
    "# Plot a time series for these individuals and save the image as a .png\n",
    "# Use the plotly plotting library which is more interacive, but does not allow us to \n",
    "# save the image.\n",
    "\n",
    "hmis.plot_time_series(ppl_based_on_age, plotly=True)"
   ]
  },
  {
   "cell_type": "code",
   "execution_count": null,
   "metadata": {
    "collapsed": true
   },
   "outputs": [],
   "source": []
  },
  {
   "cell_type": "code",
   "execution_count": null,
   "metadata": {
    "collapsed": true
   },
   "outputs": [],
   "source": [
    "# Get the list of dictionaries of the individuals.\n",
    "num_of_programs = 27\n",
    "ppl_based_on_programs = hmis.select_by_number_of_programs(people,num_of_programs)\n",
    "#print(ppl_based_on_programs)"
   ]
  },
  {
   "cell_type": "code",
   "execution_count": null,
   "metadata": {
    "collapsed": true
   },
   "outputs": [],
   "source": [
    "# Taking the individuals from the previous selection, and plotting their time series.\n",
    "plt.figure()\n",
    "hmis.plot_time_series(ppl_based_on_programs, plotly=False)"
   ]
  }
 ],
 "metadata": {
  "kernelspec": {
   "display_name": "Python 2",
   "language": "python",
   "name": "python2"
  },
  "language_info": {
   "codemirror_mode": {
    "name": "ipython",
    "version": 2
   },
   "file_extension": ".py",
   "mimetype": "text/x-python",
   "name": "python",
   "nbconvert_exporter": "python",
   "pygments_lexer": "ipython2",
   "version": "2.7.13"
  }
 },
 "nbformat": 4,
 "nbformat_minor": 1
}
